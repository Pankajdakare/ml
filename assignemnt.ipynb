{
 "cells": [
  {
   "cell_type": "code",
   "execution_count": 1,
   "id": "85809eb6-20d7-4c7c-9c0f-e5890e0c4bcc",
   "metadata": {},
   "outputs": [
    {
     "name": "stdout",
     "output_type": "stream",
     "text": [
      "0     1\n",
      "1     2\n",
      "2     3\n",
      "3     4\n",
      "4     5\n",
      "5     6\n",
      "6     7\n",
      "7     8\n",
      "8     9\n",
      "9    10\n",
      "dtype: int64\n"
     ]
    }
   ],
   "source": [
    "import pandas as pd\n",
    "\n",
    "# Given list\n",
    "my_list = [1, 2, 3, 4, 5, 6, 7, 8, 9, 10]\n",
    "\n",
    "\n",
    "series = pd.Series(my_list)\n",
    "\n",
    "print(series)\n"
   ]
  },
  {
   "cell_type": "code",
   "execution_count": 2,
   "id": "8af4ae31-2e2b-4109-9443-0a8cb9d090c4",
   "metadata": {},
   "outputs": [
    {
     "data": {
      "text/plain": [
       "0    40\n",
       "1    60\n",
       "2    80\n",
       "dtype: int64"
      ]
     },
     "execution_count": 2,
     "metadata": {},
     "output_type": "execute_result"
    }
   ],
   "source": [
    "given_list = [20, 40, 50, 60, 70, 80, 90]\n",
    "\n",
    "odd_indexes_elements = given_list[1::2]\n",
    "\n",
    "series = pd.Series(odd_indexes_elements)\n",
    "\n",
    "series"
   ]
  },
  {
   "cell_type": "code",
   "execution_count": 3,
   "id": "2549b3ce-20df-4078-98eb-45ff0b40bfe7",
   "metadata": {},
   "outputs": [
    {
     "data": {
      "text/html": [
       "<div>\n",
       "<style scoped>\n",
       "    .dataframe tbody tr th:only-of-type {\n",
       "        vertical-align: middle;\n",
       "    }\n",
       "\n",
       "    .dataframe tbody tr th {\n",
       "        vertical-align: top;\n",
       "    }\n",
       "\n",
       "    .dataframe thead th {\n",
       "        text-align: right;\n",
       "    }\n",
       "</style>\n",
       "<table border=\"1\" class=\"dataframe\">\n",
       "  <thead>\n",
       "    <tr style=\"text-align: right;\">\n",
       "      <th></th>\n",
       "      <th>name</th>\n",
       "      <th>age</th>\n",
       "      <th>occ</th>\n",
       "    </tr>\n",
       "  </thead>\n",
       "  <tbody>\n",
       "    <tr>\n",
       "      <th>0</th>\n",
       "      <td>Vinay</td>\n",
       "      <td>22</td>\n",
       "      <td>engineer</td>\n",
       "    </tr>\n",
       "    <tr>\n",
       "      <th>1</th>\n",
       "      <td>Kushal</td>\n",
       "      <td>25</td>\n",
       "      <td>doctor</td>\n",
       "    </tr>\n",
       "    <tr>\n",
       "      <th>2</th>\n",
       "      <td>Aman</td>\n",
       "      <td>24</td>\n",
       "      <td>accountant</td>\n",
       "    </tr>\n",
       "  </tbody>\n",
       "</table>\n",
       "</div>"
      ],
      "text/plain": [
       "     name  age         occ\n",
       "0   Vinay   22    engineer\n",
       "1  Kushal   25      doctor\n",
       "2    Aman   24  accountant"
      ]
     },
     "execution_count": 3,
     "metadata": {},
     "output_type": "execute_result"
    }
   ],
   "source": [
    "dictionary = {'name': ['Vinay', 'Kushal', 'Aman'],\n",
    "              'age': [22, 25, 24],\n",
    "              'occ': ['engineer', 'doctor', 'accountant']}\n",
    "\n",
    "# Converting dictionary to DataFrame\n",
    "df = pd.DataFrame(dictionary)\n",
    "\n",
    "# Displaying DataFrame\n",
    "df"
   ]
  },
  {
   "cell_type": "code",
   "execution_count": 4,
   "id": "e3ac2a47-8bae-4c69-a7cd-ddb61e7d4dd1",
   "metadata": {},
   "outputs": [
    {
     "ename": "NameError",
     "evalue": "name 'pf' is not defined",
     "output_type": "error",
     "traceback": [
      "\u001b[1;31m---------------------------------------------------------------------------\u001b[0m",
      "\u001b[1;31mNameError\u001b[0m                                 Traceback (most recent call last)",
      "Cell \u001b[1;32mIn[4], line 8\u001b[0m\n\u001b[0;32m      5\u001b[0m \u001b[38;5;66;03m# Converting 2D list to DataFrame\u001b[39;00m\n\u001b[0;32m      6\u001b[0m df \u001b[38;5;241m=\u001b[39m pd\u001b[38;5;241m.\u001b[39mDataFrame(lists, columns\u001b[38;5;241m=\u001b[39m[\u001b[38;5;124m'\u001b[39m\u001b[38;5;124mID\u001b[39m\u001b[38;5;124m'\u001b[39m, \u001b[38;5;124m'\u001b[39m\u001b[38;5;124mName\u001b[39m\u001b[38;5;124m'\u001b[39m, \u001b[38;5;124m'\u001b[39m\u001b[38;5;124mAge\u001b[39m\u001b[38;5;124m'\u001b[39m])\n\u001b[1;32m----> 8\u001b[0m \u001b[43mpf\u001b[49m\n",
      "\u001b[1;31mNameError\u001b[0m: name 'pf' is not defined"
     ]
    }
   ],
   "source": [
    "lists = [[2, 'Vishal', 22],\n",
    "         [1, 'Kushal', 25],\n",
    "         [1, 'Aman', 24]]\n",
    "\n",
    "# Converting 2D list to DataFrame\n",
    "df = pd.DataFrame(lists, columns=['ID', 'Name', 'Age'])\n",
    "\n",
    "pf"
   ]
  },
  {
   "cell_type": "code",
   "execution_count": 5,
   "id": "cf1401a7-dc9a-4cff-a1c8-ae886be2e03f",
   "metadata": {},
   "outputs": [
    {
     "data": {
      "text/html": [
       "<div>\n",
       "<style scoped>\n",
       "    .dataframe tbody tr th:only-of-type {\n",
       "        vertical-align: middle;\n",
       "    }\n",
       "\n",
       "    .dataframe tbody tr th {\n",
       "        vertical-align: top;\n",
       "    }\n",
       "\n",
       "    .dataframe thead th {\n",
       "        text-align: right;\n",
       "    }\n",
       "</style>\n",
       "<table border=\"1\" class=\"dataframe\">\n",
       "  <thead>\n",
       "    <tr style=\"text-align: right;\">\n",
       "      <th></th>\n",
       "      <th>ID</th>\n",
       "      <th>Name</th>\n",
       "      <th>Age</th>\n",
       "    </tr>\n",
       "  </thead>\n",
       "  <tbody>\n",
       "    <tr>\n",
       "      <th>0</th>\n",
       "      <td>2</td>\n",
       "      <td>Vishal</td>\n",
       "      <td>22</td>\n",
       "    </tr>\n",
       "    <tr>\n",
       "      <th>1</th>\n",
       "      <td>1</td>\n",
       "      <td>Kushal</td>\n",
       "      <td>25</td>\n",
       "    </tr>\n",
       "    <tr>\n",
       "      <th>2</th>\n",
       "      <td>1</td>\n",
       "      <td>Aman</td>\n",
       "      <td>24</td>\n",
       "    </tr>\n",
       "  </tbody>\n",
       "</table>\n",
       "</div>"
      ],
      "text/plain": [
       "   ID    Name  Age\n",
       "0   2  Vishal   22\n",
       "1   1  Kushal   25\n",
       "2   1    Aman   24"
      ]
     },
     "execution_count": 5,
     "metadata": {},
     "output_type": "execute_result"
    }
   ],
   "source": [
    "df"
   ]
  },
  {
   "cell_type": "code",
   "execution_count": 6,
   "id": "5285e64c-d25a-4235-bc73-02bb7a3fb2bb",
   "metadata": {},
   "outputs": [
    {
     "name": "stdout",
     "output_type": "stream",
     "text": [
      "0    22\n",
      "1    25\n",
      "2    24\n",
      "Name: age, dtype: int64\n"
     ]
    }
   ],
   "source": [
    "\n",
    "# Given DataFrame\n",
    "data = {\n",
    "    'id': [2, 1, 1],\n",
    "    'name': ['Vinay', 'Kushal', 'Aman'],\n",
    "    'age': [22, 25, 24],\n",
    "    'occ': ['engineer', 'doctor', 'accountant']\n",
    "}\n",
    "\n",
    "df = pd.DataFrame(data)\n",
    "\n",
    "# Selecting a particular column (e.g., 'name')\n",
    "selected_column = df['age']\n",
    "\n",
    "# Displaying the selected column\n",
    "print(selected_column)\n"
   ]
  },
  {
   "cell_type": "code",
   "execution_count": 7,
   "id": "3908e0b9-b312-4017-808b-fd9cdfbd8b6f",
   "metadata": {},
   "outputs": [
    {
     "name": "stdout",
     "output_type": "stream",
     "text": [
      "   id    name  age       occ\n",
      "0   2   Vinay   22  engineer\n",
      "1   1  Kushal   25    doctor\n"
     ]
    }
   ],
   "source": [
    "import pandas as pd\n",
    "\n",
    "# Given DataFrame\n",
    "data = {\n",
    "    'id': [2, 1, 3, 4, 5, 6],\n",
    "    'name': ['Vinay', 'Kushal', 'Aman', 'Arun', 'Akhil', 'Arya'],\n",
    "    'age': [22, 25, 24, 25, 26, 27],\n",
    "    'occ': ['engineer', 'doctor', 'accountant', 'accountant', 'accountant', 'accountant']\n",
    "}\n",
    "\n",
    "df = pd.DataFrame(data)\n",
    "\n",
    "# Selecting the first two rows\n",
    "first_two_rows = df.head(2)\n",
    "\n",
    "# Displaying the first two rows\n",
    "print(first_two_rows)\n"
   ]
  },
  {
   "cell_type": "code",
   "execution_count": null,
   "id": "d074b262-12ad-44f0-9342-22e88ec68eb1",
   "metadata": {},
   "outputs": [],
   "source": [
    "import pandas as pd\n",
    "\n",
    "# Load IMDb dataset from CSV\n",
    "imdb_df = pd.read_csv('imdb_dataset.csv')\n",
    "\n",
    "# View the top 10 rows of the dataset\n",
    "top_10_rows = imdb_df.head(10)\n",
    "print(\"Top 10 rows of the dataset:\")\n",
    "print(top_10_rows)\n",
    "\n",
    "# Understand basic information about the dataset\n",
    "print(\"\\nBasic information about the dataset:\")\n",
    "print(imdb_df.info())\n",
    "\n",
    "# Inspect the dataframe's columns, shapes, variable types, etc.\n",
    "print(\"\\nColumns of the dataset:\")\n",
    "print(imdb_df.columns)\n",
    "\n",
    "print(\"\\nShape of the dataset (rows, columns):\")\n",
    "print(imdb_df.shape)\n",
    "\n",
    "print(\"\\nVariable types in the dataset:\")\n",
    "print(imdb_df.dtypes)\n"
   ]
  }
 ],
 "metadata": {
  "kernelspec": {
   "display_name": "Python 3 (ipykernel)",
   "language": "python",
   "name": "python3"
  },
  "language_info": {
   "codemirror_mode": {
    "name": "ipython",
    "version": 3
   },
   "file_extension": ".py",
   "mimetype": "text/x-python",
   "name": "python",
   "nbconvert_exporter": "python",
   "pygments_lexer": "ipython3",
   "version": "3.12.0"
  }
 },
 "nbformat": 4,
 "nbformat_minor": 5
}
